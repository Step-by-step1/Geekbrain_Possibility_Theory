{
 "cells": [
  {
   "cell_type": "code",
   "execution_count": 3,
   "id": "f4ff3fc0",
   "metadata": {},
   "outputs": [],
   "source": [
    "import numpy as np\n",
    "from scipy import stats"
   ]
  },
  {
   "cell_type": "markdown",
   "id": "d7bfa062",
   "metadata": {},
   "source": [
    "Задание 1. Провести дисперсионный анализ для определения того, есть ли различия среднего роста среди взрослых футболистов, хоккеистов и штангистов. Даны значения роста в трех группах случайно выбранных спортсменов: Футболисты: 173, 175, 180, 178, 177, 185, 183, 182. Хоккеисты: 177, 179, 180, 188, 177, 172, 171, 184, 180. Штангисты: 172, 173, 169, 177, 166, 180, 178, 177, 172, 166, 170. alpha = 0.05."
   ]
  },
  {
   "cell_type": "code",
   "execution_count": 7,
   "id": "db6c77bc",
   "metadata": {},
   "outputs": [
    {
     "data": {
      "text/plain": [
       "28"
      ]
     },
     "execution_count": 7,
     "metadata": {},
     "output_type": "execute_result"
    }
   ],
   "source": [
    "soccer = np.array([173, 175, 180, 178, 177, 185, 183, 182])\n",
    "hockey = np.array([177, 179, 180, 188, 177, 172, 171, 184, 180])\n",
    "lifters = np.array([172, 173, 169, 177, 166, 180, 178, 177, 172, 166, 170])\n",
    "a = 0.05\n",
    "n = soccer.shape[0] + hockey.shape[0] + lifters.shape[0]"
   ]
  },
  {
   "cell_type": "code",
   "execution_count": 8,
   "id": "53b33b31",
   "metadata": {},
   "outputs": [
    {
     "data": {
      "text/plain": [
       "3.3851899614491687"
      ]
     },
     "execution_count": 8,
     "metadata": {},
     "output_type": "execute_result"
    }
   ],
   "source": [
    "F_t = stats.f.ppf(1 - a, 2, n - 3)\n",
    "F_t"
   ]
  },
  {
   "cell_type": "code",
   "execution_count": 9,
   "id": "91d0d814",
   "metadata": {},
   "outputs": [
    {
     "data": {
      "text/plain": [
       "F_onewayResult(statistic=5.500053450812596, pvalue=0.010482206918698694)"
      ]
     },
     "execution_count": 9,
     "metadata": {},
     "output_type": "execute_result"
    }
   ],
   "source": [
    "stats.f_oneway(soccer, hockey, lifters)"
   ]
  },
  {
   "cell_type": "code",
   "execution_count": 10,
   "id": "49611458",
   "metadata": {},
   "outputs": [],
   "source": [
    "#Вывод: различия в росте спортсменов в зависимости от вида спорта имеют статистически значимые отличия."
   ]
  },
  {
   "cell_type": "code",
   "execution_count": null,
   "id": "e6dd1489",
   "metadata": {},
   "outputs": [],
   "source": []
  }
 ],
 "metadata": {
  "kernelspec": {
   "display_name": "Python 3 (ipykernel)",
   "language": "python",
   "name": "python3"
  },
  "language_info": {
   "codemirror_mode": {
    "name": "ipython",
    "version": 3
   },
   "file_extension": ".py",
   "mimetype": "text/x-python",
   "name": "python",
   "nbconvert_exporter": "python",
   "pygments_lexer": "ipython3",
   "version": "3.8.10"
  }
 },
 "nbformat": 4,
 "nbformat_minor": 5
}
