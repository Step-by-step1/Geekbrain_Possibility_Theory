{
 "cells": [
  {
   "cell_type": "code",
   "execution_count": 19,
   "id": "4c937bef",
   "metadata": {},
   "outputs": [],
   "source": [
    "import numpy as np\n",
    "from scipy import stats\n"
   ]
  },
  {
   "cell_type": "markdown",
   "id": "0597ea4d",
   "metadata": {},
   "source": [
    "Задание 1. Даны значения величины заработной платы заемщиков банка (zp) и значения их поведенческого кредитного скоринга (ks):\n",
    "zp = [35, 45, 190, 200, 40, 70, 54, 150, 120, 110],\n",
    "ks = [401, 574, 874, 919, 459, 739, 653, 902, 746, 832].\n",
    "Найдите ковариацию этих двух величин с помощью элементарных действий, а затем с помощью функции cov из numpy\n",
    "Полученные значения должны быть равны.\n",
    "Найдите коэффициент корреляции Пирсона с помощью ковариации и среднеквадратичных отклонений двух признаков,\n",
    "а затем с использованием функций из библиотек numpy и pandas."
   ]
  },
  {
   "cell_type": "code",
   "execution_count": 20,
   "id": "c061f103",
   "metadata": {},
   "outputs": [],
   "source": [
    "zp = [35, 45, 190, 200, 40, 70, 54, 150, 120, 110]\n",
    "ks = [401, 574, 874, 919, 459, 739, 653, 902, 746, 832]"
   ]
  },
  {
   "cell_type": "code",
   "execution_count": 21,
   "id": "dd09ad87",
   "metadata": {},
   "outputs": [
    {
     "data": {
      "text/plain": [
       "9157.839999999982"
      ]
     },
     "execution_count": 21,
     "metadata": {},
     "output_type": "execute_result"
    }
   ],
   "source": [
    "cov = sum([zp[i]*ks[i] for i in range(len(zp))]) / len(zp) - sum(zp) / len(zp) * sum(ks) / len(ks)\n",
    "cov"
   ]
  },
  {
   "cell_type": "code",
   "execution_count": 22,
   "id": "18a67d61",
   "metadata": {},
   "outputs": [],
   "source": [
    "zp = np.array(zp)\n",
    "ks = np.array(ks)"
   ]
  },
  {
   "cell_type": "code",
   "execution_count": 23,
   "id": "2239f6c8",
   "metadata": {},
   "outputs": [
    {
     "data": {
      "text/plain": [
       "array([[ 3494.64,  9157.84],\n",
       "       [ 9157.84, 30468.89]])"
      ]
     },
     "execution_count": 23,
     "metadata": {},
     "output_type": "execute_result"
    }
   ],
   "source": [
    "cov_ = np.cov(zp, ks, ddof=0)\n",
    "cov_"
   ]
  },
  {
   "cell_type": "code",
   "execution_count": 24,
   "id": "48125d8e",
   "metadata": {},
   "outputs": [
    {
     "data": {
      "text/plain": [
       "0.8874900920739144"
      ]
     },
     "execution_count": 24,
     "metadata": {},
     "output_type": "execute_result"
    }
   ],
   "source": [
    "r = cov / zp.std() / ks.std()\n",
    "r"
   ]
  },
  {
   "cell_type": "code",
   "execution_count": 25,
   "id": "0da1eeaa",
   "metadata": {},
   "outputs": [
    {
     "data": {
      "text/plain": [
       "array([[1.        , 0.88749009],\n",
       "       [0.88749009, 1.        ]])"
      ]
     },
     "execution_count": 25,
     "metadata": {},
     "output_type": "execute_result"
    }
   ],
   "source": [
    "r_ = np.corrcoef(zp, ks)\n",
    "r_"
   ]
  },
  {
   "cell_type": "markdown",
   "id": "fd0d3893",
   "metadata": {},
   "source": [
    "Задание 2. Измерены значения IQ выборки студентов,\n",
    "обучающихся в местных технических вузах:\n",
    "131, 125, 115, 122, 131, 115, 107, 99, 125, 111.\n",
    "Известно, что в генеральной совокупности IQ распределен нормально.\n",
    "Найдите доверительный интервал для математического ожидания с надежностью 0.95."
   ]
  },
  {
   "cell_type": "code",
   "execution_count": 26,
   "id": "caae05ea",
   "metadata": {},
   "outputs": [
    {
     "data": {
      "text/plain": [
       "[110.55608365158724, 125.64391634841274]"
      ]
     },
     "execution_count": 26,
     "metadata": {},
     "output_type": "execute_result"
    }
   ],
   "source": [
    "iq = np.array([131, 125, 115, 122, 131, 115, 107, 99, 125, 111])\n",
    "a = 0.05\n",
    "X = iq.mean()\n",
    "n = iq.size\n",
    "S = iq.std(ddof=1)\n",
    "K = stats.t.ppf(1 - a / 2, n - 1)\n",
    "interval = [X - K * S / n ** 0.5, X + K * S / n ** 0.5]\n",
    "interval"
   ]
  },
  {
   "cell_type": "markdown",
   "id": "0111471e",
   "metadata": {},
   "source": [
    "Задание 3. Известно, что рост футболистов в сборной распределен нормально\n",
    "с дисперсией генеральной совокупности, равной 25 кв.см. Объем выборки равен 27,\n",
    "среднее выборочное составляет 174.2. Найдите доверительный интервал для математического\n",
    "ожидания с надежностью 0.95."
   ]
  },
  {
   "cell_type": "code",
   "execution_count": 27,
   "id": "eabff002",
   "metadata": {},
   "outputs": [
    {
     "data": {
      "text/plain": [
       "[172.3140237765397, 176.08597622346028]"
      ]
     },
     "execution_count": 27,
     "metadata": {},
     "output_type": "execute_result"
    }
   ],
   "source": [
    "X = 174.2\n",
    "n = 27\n",
    "D = 25\n",
    "a = 0.05\n",
    "K = stats.norm.ppf(a / 2)\n",
    "interval = [X + K * D ** 0.5 / n ** 0.5, X - K * D ** 0.5 / n ** 0.5]\n",
    "interval"
   ]
  }
 ],
 "metadata": {
  "kernelspec": {
   "display_name": "Python 3 (ipykernel)",
   "language": "python",
   "name": "python3"
  },
  "language_info": {
   "codemirror_mode": {
    "name": "ipython",
    "version": 3
   },
   "file_extension": ".py",
   "mimetype": "text/x-python",
   "name": "python",
   "nbconvert_exporter": "python",
   "pygments_lexer": "ipython3",
   "version": "3.8.10"
  }
 },
 "nbformat": 4,
 "nbformat_minor": 5
}
