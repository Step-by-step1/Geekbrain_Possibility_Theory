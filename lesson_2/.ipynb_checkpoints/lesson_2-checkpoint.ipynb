{
 "cells": [
  {
   "cell_type": "markdown",
   "id": "54c01813",
   "metadata": {},
   "source": [
    "# coding: utf-8\n",
    "# Задание 1: Вероятность того, что стрелок попадет в мишень, выстрелив один раз, равна 0.8. Стрелок выстрелил 100 раз. Найдите вероятность того, что стрелок попадет в цель ровно 85 раз."
   ]
  },
  {
   "cell_type": "code",
   "execution_count": 2,
   "id": "838c4d01",
   "metadata": {},
   "outputs": [],
   "source": [
    "from math import factorial as fact, exp as exp\n",
    "\n"
   ]
  },
  {
   "cell_type": "code",
   "execution_count": 3,
   "id": "a70ab2e3",
   "metadata": {},
   "outputs": [
    {
     "data": {
      "text/plain": [
       "0.04806179370074656"
      ]
     },
     "execution_count": 3,
     "metadata": {},
     "output_type": "execute_result"
    }
   ],
   "source": [
    "## Используем уравнение Бернулли!\n",
    "P = fact(100) / fact(85) / fact(15) * 0.8**85 * 0.2**15\n",
    "P"
   ]
  },
  {
   "cell_type": "markdown",
   "id": "83c6f698",
   "metadata": {},
   "source": [
    "Задание 2: Вероятность того, что лампочка перегорит в течение первого дня эксплуатации, равна 0.0004. В жилом комплексе после ремонта в один день включили 5000 новых лампочек. "
   ]
  },
  {
   "cell_type": "markdown",
   "id": "1571aee2",
   "metadata": {},
   "source": [
    "  a) Какова вероятность, что ни одна из них не перегорит в первый день? "
   ]
  },
  {
   "cell_type": "code",
   "execution_count": 4,
   "id": "61c3509e",
   "metadata": {},
   "outputs": [
    {
     "data": {
      "text/plain": [
       "0.1353352832366127"
      ]
     },
     "execution_count": 4,
     "metadata": {},
     "output_type": "execute_result"
    }
   ],
   "source": [
    "## Используем уравнение Пуассона!\n",
    "p = 0.0004\n",
    "n = 5000\n",
    "L = p * n\n",
    "m = 0\n",
    "P = L ** m * exp(-L) / fact(m)\n",
    "P"
   ]
  },
  {
   "cell_type": "markdown",
   "id": "1cb6862d",
   "metadata": {},
   "source": [
    "b) Какова вероятность, что перегорят ровно две?"
   ]
  },
  {
   "cell_type": "code",
   "execution_count": 5,
   "id": "d72a5379",
   "metadata": {},
   "outputs": [
    {
     "data": {
      "text/plain": [
       "0.2706705664732254"
      ]
     },
     "execution_count": 5,
     "metadata": {},
     "output_type": "execute_result"
    }
   ],
   "source": [
    "m = 2\n",
    "P = L ** m * exp(-L) / fact(m)\n",
    "P"
   ]
  },
  {
   "cell_type": "markdown",
   "id": "8635ce27",
   "metadata": {},
   "source": [
    "Задание 3: Монету подбросили 144 раза. Какова вероятность, что орел выпадет ровно 70 раз? "
   ]
  },
  {
   "cell_type": "code",
   "execution_count": 6,
   "id": "61894cab",
   "metadata": {},
   "outputs": [
    {
     "data": {
      "text/plain": [
       "0.06281178035144776"
      ]
     },
     "execution_count": 6,
     "metadata": {},
     "output_type": "execute_result"
    }
   ],
   "source": [
    "## Используем уравнение Бернулли!\n",
    "p = 0.5\n",
    "q = 0.5\n",
    "k = 70\n",
    "n = 144\n",
    "P = fact(144) / fact(70) / fact(144-70) * p**k * q**(n-k)\n",
    "P"
   ]
  },
  {
   "cell_type": "markdown",
   "id": "01d39fd2",
   "metadata": {},
   "source": [
    "Задание 4: В первом ящике находится 10 мячей, из которых 7 - белые. Во втором ящике - 11 мячей, из которых 9 белых. Из каждого ящика вытаскивают случайным образом по два мяча."
   ]
  },
  {
   "cell_type": "markdown",
   "id": "ca615f49",
   "metadata": {},
   "source": [
    "a) Какова вероятность того, что все мячи белые?"
   ]
  },
  {
   "cell_type": "code",
   "execution_count": 7,
   "id": "17014c46",
   "metadata": {},
   "outputs": [
    {
     "data": {
      "text/plain": [
       "0.3054545454545455"
      ]
     },
     "execution_count": 7,
     "metadata": {},
     "output_type": "execute_result"
    }
   ],
   "source": [
    "##  Найдём отношения числа сочетаний с двумя белыми мячами к общему числу сочетаний с двумя мячами для каждого ящика \n",
    "##  и затем перемножим значения\n",
    "S1_both_white = fact(7) / fact(2) / fact(7-2)\n",
    "S1_all = fact(10) / fact(2) / fact(10-2)\n",
    "p1_both_white = S1_both_white / S1_all\n",
    "S2_both_white = fact(9) / fact(2) / fact(9-2)\n",
    "S2_all = fact(11) / fact(2) / fact(11-2)\n",
    "p2_both_white = S2_both_white / S2_all\n",
    "p = p1_both_white * p2_both_white\n",
    "p"
   ]
  },
  {
   "cell_type": "markdown",
   "id": "b8446230",
   "metadata": {},
   "source": [
    "b) Какова вероятность того, что ровно два мяча белые? "
   ]
  },
  {
   "cell_type": "code",
   "execution_count": 8,
   "id": "59cd9090",
   "metadata": {},
   "outputs": [],
   "source": [
    "S1_none_white = fact(3) / fact(2) / fact(3-2)\n",
    "S2_none_white = fact(2) / fact(2) / fact(2-2)\n",
    "p1_none_white = S1_none_white / S1_all\n",
    "p2_none_white = S2_none_white / S2_all\n",
    "p1_one_white = 1 - p1_both_white - p1_none_white\n",
    "p2_one_white = 1 - p2_both_white - p2_none_white"
   ]
  },
  {
   "cell_type": "code",
   "execution_count": 9,
   "id": "163485a1",
   "metadata": {},
   "outputs": [
    {
     "data": {
      "text/plain": [
       "0.20484848484848486"
      ]
     },
     "execution_count": 9,
     "metadata": {},
     "output_type": "execute_result"
    }
   ],
   "source": [
    "P = p1_none_white * p2_both_white + p1_one_white * p2_one_white + p1_both_white * p2_none_white\n",
    "P"
   ]
  },
  {
   "cell_type": "markdown",
   "id": "a0febb70",
   "metadata": {},
   "source": [
    "c) Какова вероятность того, что хотя бы один мяч белый?"
   ]
  },
  {
   "cell_type": "code",
   "execution_count": 10,
   "id": "d1a16676",
   "metadata": {},
   "outputs": [
    {
     "data": {
      "text/plain": [
       "0.9987878787878788"
      ]
     },
     "execution_count": 10,
     "metadata": {},
     "output_type": "execute_result"
    }
   ],
   "source": [
    "P_none_white = p1_none_white * p2_none_white\n",
    "P = 1 - P_none_white\n",
    "P"
   ]
  },
  {
   "cell_type": "code",
   "execution_count": null,
   "id": "ebb67c3a",
   "metadata": {},
   "outputs": [],
   "source": []
  }
 ],
 "metadata": {
  "kernelspec": {
   "display_name": "Python 3 (ipykernel)",
   "language": "python",
   "name": "python3"
  },
  "language_info": {
   "codemirror_mode": {
    "name": "ipython",
    "version": 3
   },
   "file_extension": ".py",
   "mimetype": "text/x-python",
   "name": "python",
   "nbconvert_exporter": "python",
   "pygments_lexer": "ipython3",
   "version": "3.8.10"
  }
 },
 "nbformat": 4,
 "nbformat_minor": 5
}
