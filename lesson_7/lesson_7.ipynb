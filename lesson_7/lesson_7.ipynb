{
 "cells": [
  {
   "cell_type": "code",
   "execution_count": 38,
   "id": "69e2201f",
   "metadata": {},
   "outputs": [],
   "source": [
    "import numpy as np\n",
    "from matplotlib import pyplot as plt"
   ]
  },
  {
   "cell_type": "markdown",
   "id": "cb0f273e",
   "metadata": {},
   "source": [
    "Задание 1. Даны значения величины заработной платы заемщиков банка (zp) и значения их поведенческого кредитного скоринга (ks): zp = [35, 45, 190, 200, 40, 70, 54, 150, 120, 110], ks = [401, 574, 874, 919, 459, 739, 653, 902, 746, 832]. Используя математические операции, посчитать коэффициенты линейной регрессии, приняв за X заработную плату (то есть, zp - признак), а за y - значения скорингового балла (то есть, ks - целевая переменная). Произвести расчет как с использованием intercept, так и без."
   ]
  },
  {
   "cell_type": "code",
   "execution_count": 39,
   "id": "95ac7ad6",
   "metadata": {},
   "outputs": [],
   "source": [
    "zp = [35, 45, 190, 200, 40, 70, 54, 150, 120, 110]\n",
    "ks = [401, 574, 874, 919, 459, 739, 653, 902, 746, 832]"
   ]
  },
  {
   "cell_type": "code",
   "execution_count": 40,
   "id": "8a01c943",
   "metadata": {},
   "outputs": [],
   "source": [
    "X1 = np.array(zp)\n",
    "y = np.array(ks)"
   ]
  },
  {
   "cell_type": "code",
   "execution_count": 41,
   "id": "eed85b3d",
   "metadata": {},
   "outputs": [],
   "source": [
    "X1 = X1.reshape((10,1))\n",
    "y = y.reshape((10,1))"
   ]
  },
  {
   "cell_type": "code",
   "execution_count": 42,
   "id": "8b41516d",
   "metadata": {},
   "outputs": [
    {
     "data": {
      "text/plain": [
       "array([[5.88982042]])"
      ]
     },
     "execution_count": 42,
     "metadata": {},
     "output_type": "execute_result"
    }
   ],
   "source": [
    "# Без интерсепта:\n",
    "B1 = np.dot(np.linalg.inv(np.dot(X1.T, X1)),X1.T@y)\n",
    "B1"
   ]
  },
  {
   "cell_type": "code",
   "execution_count": 43,
   "id": "4a5124ab",
   "metadata": {},
   "outputs": [
    {
     "data": {
      "text/plain": [
       "array([[444.17735732],\n",
       "       [  2.62053888]])"
      ]
     },
     "execution_count": 43,
     "metadata": {},
     "output_type": "execute_result"
    }
   ],
   "source": [
    "# С интерсептом\n",
    "X = np.hstack([np.ones((10,1)), X1])\n",
    "B2 = np.dot(np.linalg.inv(np.dot(X.T, X)),X.T@y)\n",
    "B2"
   ]
  },
  {
   "cell_type": "code",
   "execution_count": 44,
   "id": "21fe8b7b",
   "metadata": {},
   "outputs": [],
   "source": [
    "y1 = X1 * B1[0][0]"
   ]
  },
  {
   "cell_type": "code",
   "execution_count": 45,
   "id": "d407a9c8",
   "metadata": {},
   "outputs": [],
   "source": [
    "y2 = B2[0][0] + X1 * B2[1][0]"
   ]
  },
  {
   "cell_type": "code",
   "execution_count": 81,
   "id": "02787f26",
   "metadata": {},
   "outputs": [
    {
     "data": {
      "image/png": "[encoded data removed]",
      "text/plain": [
       "<Figure size 640x480 with 1 Axes>"
      ]
     },
     "metadata": {},
     "output_type": "display_data"
    }
   ],
   "source": [
    "fig, ax = plt.subplots()\n",
    "real = ax.scatter(X1, y)\n",
    "without_a = ax.scatter(X1, y1)\n",
    "with_a = ax.scatter(X1, y2)\n",
    "ax.legend([real, without_a, with_a], ['real', 'without_a', 'with_a'])\n",
    "plt.show()"
   ]
  },
  {
   "cell_type": "markdown",
   "id": "84a00ede",
   "metadata": {},
   "source": [
    "Задание 2. В каких случаях для вычисления доверительных интервалов и проверки статистических гипотез используется таблица значений функции Лапласа, а в каких - таблица критических точек распределения Стьюдента?"
   ]
  },
  {
   "cell_type": "markdown",
   "id": "5d24e457",
   "metadata": {},
   "source": [
    "В случаях, когда перед постановкой задачи был выполнен анализ генеральной совокупности и известны дисперсия / СКО, то используется таблица Лапласа. В противном случае, используется таблица Стьюдента."
   ]
  },
  {
   "cell_type": "code",
   "execution_count": null,
   "id": "06bd5d44",
   "metadata": {},
   "outputs": [],
   "source": []
  }
 ],
 "metadata": {
  "kernelspec": {
   "display_name": "Python 3 (ipykernel)",
   "language": "python",
   "name": "python3"
  },
  "language_info": {
   "codemirror_mode": {
    "name": "ipython",
    "version": 3
   },
   "file_extension": ".py",
   "mimetype": "text/x-python",
   "name": "python",
   "nbconvert_exporter": "python",
   "pygments_lexer": "ipython3",
   "version": "3.8.10"
  }
 },
 "nbformat": 4,
 "nbformat_minor": 5
}
