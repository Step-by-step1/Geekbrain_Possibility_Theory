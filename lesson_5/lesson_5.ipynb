{
 "cells": [
  {
   "cell_type": "code",
   "execution_count": 4,
   "id": "daa1dfdf",
   "metadata": {},
   "outputs": [],
   "source": [
    "import numpy as np"
   ]
  },
  {
   "cell_type": "markdown",
   "id": "4072a81b",
   "metadata": {},
   "source": [
    "Задание 1. Известно, что генеральная совокупность распределена нормально\n",
    "со средним квадратическим отклонением, равным 16.\n",
    "Найти доверительный интервал для оценки математического ожидания a с надежностью 0.95,\n",
    "если выборочная средняя M = 80, а объем выборки n = 256."
   ]
  },
  {
   "cell_type": "code",
   "execution_count": 2,
   "id": "22180fee",
   "metadata": {},
   "outputs": [
    {
     "data": {
      "text/plain": [
       "[78.04, 81.96]"
      ]
     },
     "execution_count": 2,
     "metadata": {},
     "output_type": "execute_result"
    }
   ],
   "source": [
    "#Применяем критерий Фишера\n",
    "sigma = 16\n",
    "M = 80\n",
    "a = 1 - 0.95\n",
    "n = 256\n",
    "Z = -1.96\n",
    "interval = [(M + Z * sigma / n ** 0.5), (M - Z * sigma / n ** 0.5)]\n",
    "interval"
   ]
  },
  {
   "cell_type": "markdown",
   "id": "7c5de433",
   "metadata": {},
   "source": [
    "Задание 2. В результате 10 независимых измерений некоторой величины X, выполненных с одинаковой точностью,\n",
    "получены опытные данные:\n",
    "6.9, 6.1, 6.2, 6.8, 7.5, 6.3, 6.4, 6.9, 6.7, 6.1\n",
    "Предполагая, что результаты измерений подчинены нормальному закону распределения вероятностей,\n",
    "оценить истинное значение величины X при помощи доверительного интервала, покрывающего это\n",
    "значение с доверительной вероятностью 0,95."
   ]
  },
  {
   "cell_type": "code",
   "execution_count": 13,
   "id": "811f9eae",
   "metadata": {},
   "outputs": [],
   "source": [
    "#Применяем критерий Стьюдента\n",
    "v = np.array([6.9, 6.1, 6.2, 6.8, 7.5, 6.3, 6.4, 6.9, 6.7, 6.1])"
   ]
  },
  {
   "cell_type": "code",
   "execution_count": 14,
   "id": "0170de1d",
   "metadata": {},
   "outputs": [
    {
     "data": {
      "text/plain": [
       "6.590000000000001"
      ]
     },
     "execution_count": 14,
     "metadata": {},
     "output_type": "execute_result"
    }
   ],
   "source": [
    "X = v.mean()\n",
    "X"
   ]
  },
  {
   "cell_type": "code",
   "execution_count": 24,
   "id": "77e383fd",
   "metadata": {},
   "outputs": [
    {
     "data": {
      "text/plain": [
       "[6.267538255912426, 6.912461744087575]"
      ]
     },
     "execution_count": 24,
     "metadata": {},
     "output_type": "execute_result"
    }
   ],
   "source": [
    "a = 1 - 0.95\n",
    "n = 10\n",
    "variance = v.var(ddof=1)\n",
    "S = variance ** 0.5\n",
    "K = 2.262\n",
    "interval = [(X - K * S / n ** 0.5), (X + K * S / n ** 0.5)]\n",
    "interval"
   ]
  },
  {
   "cell_type": "code",
   "execution_count": 25,
   "id": "f61b0401",
   "metadata": {},
   "outputs": [],
   "source": [
    "#Среднее значение выборки с 95% вероятностью попадает в доверительный интервал"
   ]
  },
  {
   "cell_type": "markdown",
   "id": "abebe483",
   "metadata": {},
   "source": [
    "Задание 3. Утверждается, что шарики для подшипников, изготовленные автоматическим станком, имеют средний диаметр 17 мм.\n",
    "Используя односторонний критерий с α=0,05, проверить эту гипотезу, если в выборке из n=100 шариков средний диаметр\n",
    "оказался равным 17.5 мм, а дисперсия известна и равна 4 мм."
   ]
  },
  {
   "cell_type": "code",
   "execution_count": 26,
   "id": "ba3d3adc",
   "metadata": {},
   "outputs": [
    {
     "data": {
      "text/plain": [
       "2.5"
      ]
     },
     "execution_count": 26,
     "metadata": {},
     "output_type": "execute_result"
    }
   ],
   "source": [
    "#Применяем критерий Фишера\n",
    "nu_0 = 17\n",
    "nu = 17.5\n",
    "D = 4\n",
    "n = 100\n",
    "a = 0.05\n",
    "K_table = 1.65\n",
    "K_calculated = (nu - nu_0) / D ** 0.5 * n ** 0.5\n",
    "K_calculated\n",
    "\n"
   ]
  },
  {
   "cell_type": "code",
   "execution_count": 28,
   "id": "88c67b59",
   "metadata": {},
   "outputs": [],
   "source": [
    "# K_calculated > K_table >> отвергаем гипотезу, что диаметр шариков равен 17 мм и принимаем гипотезу, \n",
    "# что диаметр равен 17,5 мм"
   ]
  },
  {
   "cell_type": "markdown",
   "id": "4ae2a8e5",
   "metadata": {},
   "source": [
    "Задание 4. Продавец утверждает, что средний вес пачки печенья составляет 200 г.\n",
    "Из партии извлечена выборка из 10 пачек. Вес каждой пачки составляет:\n",
    "202, 203, 199, 197, 195, 201, 200, 204, 194, 190.\n",
    "Известно, что их веса распределены нормально.\n",
    "Верно ли утверждение продавца, если учитывать, что доверительная вероятность равна 99%?"
   ]
  },
  {
   "cell_type": "code",
   "execution_count": 34,
   "id": "03c55abb",
   "metadata": {},
   "outputs": [
    {
     "data": {
      "text/plain": [
       "3.368165348543039"
      ]
     },
     "execution_count": 34,
     "metadata": {},
     "output_type": "execute_result"
    }
   ],
   "source": [
    "#Применяем критерий Стьюдента\n",
    "v = np.array([202, 203, 199, 197, 195, 201, 200, 204, 194, 190])\n",
    "X = v.mean()\n",
    "nu_0 = 200\n",
    "nu = X\n",
    "a = 0.01\n",
    "K_table = 2.821\n",
    "variance = v.var(ddof=1)\n",
    "S = variance ** 0.5\n",
    "K_calculated = abs(nu - nu_0) / S * n ** 0.5\n",
    "K_calculated"
   ]
  },
  {
   "cell_type": "code",
   "execution_count": null,
   "id": "484c006b",
   "metadata": {},
   "outputs": [],
   "source": [
    "# K_calculated > K_table >> отвергаем гипотезу, что средний вес пачки равен 200 кг"
   ]
  }
 ],
 "metadata": {
  "kernelspec": {
   "display_name": "Python 3 (ipykernel)",
   "language": "python",
   "name": "python3"
  },
  "language_info": {
   "codemirror_mode": {
    "name": "ipython",
    "version": 3
   },
   "file_extension": ".py",
   "mimetype": "text/x-python",
   "name": "python",
   "nbconvert_exporter": "python",
   "pygments_lexer": "ipython3",
   "version": "3.8.10"
  }
 },
 "nbformat": 4,
 "nbformat_minor": 5
}
