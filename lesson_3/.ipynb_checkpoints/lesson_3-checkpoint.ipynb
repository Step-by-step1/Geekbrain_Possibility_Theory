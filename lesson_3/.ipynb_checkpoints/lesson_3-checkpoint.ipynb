{
 "cells": [
  {
   "cell_type": "code",
   "execution_count": 38,
   "id": "5a1bcc7d",
   "metadata": {},
   "outputs": [],
   "source": [
    "import numpy as np\n",
    "from math import factorial as fact"
   ]
  },
  {
   "cell_type": "markdown",
   "id": "c683de71",
   "metadata": {},
   "source": [
    "Задание 1. Даны значения зарплат из выборки выпускников: 100, 80, 75, 77, 89, 33, 45, 25, 65, 17, 30, 24, 57, 55, 70, 75, 65, 84, 90, 150. Посчитать (желательно без использования статистических методов наподобие std, var, mean) среднее арифметическое, среднее квадратичное отклонение, смещенную и несмещенную оценки дисперсий для данной выборки."
   ]
  },
  {
   "cell_type": "code",
   "execution_count": 32,
   "id": "d0526126",
   "metadata": {},
   "outputs": [],
   "source": [
    "salary = np.array([100, 80, 75, 77, 89, 33, 45, 25, 65, 17, 30, 24, 57, 55, 70, 75, 65, 84, 90, 150])"
   ]
  },
  {
   "cell_type": "code",
   "execution_count": 33,
   "id": "80c429c0",
   "metadata": {},
   "outputs": [
    {
     "data": {
      "text/plain": [
       "65.3"
      ]
     },
     "execution_count": 33,
     "metadata": {},
     "output_type": "execute_result"
    }
   ],
   "source": [
    "mean = salary.sum() / salary.size\n",
    "mean"
   ]
  },
  {
   "cell_type": "code",
   "execution_count": 34,
   "id": "9533d99d",
   "metadata": {},
   "outputs": [
    {
     "data": {
      "text/plain": [
       "31.624607341019814"
      ]
     },
     "execution_count": 34,
     "metadata": {},
     "output_type": "execute_result"
    }
   ],
   "source": [
    "std = (((salary - mean) ** 2).sum() / (salary.size - 1)) ** 0.5\n",
    "std"
   ]
  },
  {
   "cell_type": "code",
   "execution_count": 35,
   "id": "27061430",
   "metadata": {},
   "outputs": [
    {
     "data": {
      "text/plain": [
       "1000.1157894736843"
      ]
     },
     "execution_count": 35,
     "metadata": {},
     "output_type": "execute_result"
    }
   ],
   "source": [
    "var_with_shift = std ** 2\n",
    "var_with_shift"
   ]
  },
  {
   "cell_type": "code",
   "execution_count": 36,
   "id": "646f6cd2",
   "metadata": {},
   "outputs": [
    {
     "data": {
      "text/plain": [
       "950.11"
      ]
     },
     "execution_count": 36,
     "metadata": {},
     "output_type": "execute_result"
    }
   ],
   "source": [
    "var_without_shift = ((salary - mean) ** 2).sum() / salary.size\n",
    "var_without_shift"
   ]
  },
  {
   "cell_type": "markdown",
   "id": "d5761c62",
   "metadata": {},
   "source": [
    "Задание 2. В первом ящике находится 8 мячей, из которых 5 - белые. Во втором ящике - 12 мячей, из которых 5 белых. Из первого ящика вытаскивают случайным образом два мяча, из второго - 4. Какова вероятность того, что 3 мяча белые?"
   ]
  },
  {
   "cell_type": "code",
   "execution_count": 47,
   "id": "cf4b5d77",
   "metadata": {},
   "outputs": [],
   "source": [
    "def combination(whites_in_box, total, whites_taken, blacks_taken):\n",
    "    blacks_in_box = total - whites_in_box\n",
    "    S_whites = fact(whites_in_box) / fact(whites_taken) / fact(whites_in_box - whites_taken)\n",
    "    S_all_for_whites = fact(total) / fact(whites_taken) / fact(total - whites_taken)\n",
    "    p_whites = S_whites / S_all_for_whites\n",
    "    S_blacks = fact(blacks_in_box) / fact(blacks_taken) / fact(blacks_in_box - blacks_taken)\n",
    "    S_all_for_blacks = fact(total) / fact(blacks_taken) / fact(total - blacks_taken)\n",
    "    p_blacks = S_blacks / S_all_for_blacks\n",
    "    return p_whites * p_blacks\n",
    "    "
   ]
  },
  {
   "cell_type": "code",
   "execution_count": 48,
   "id": "7727aaac",
   "metadata": {},
   "outputs": [
    {
     "data": {
      "text/plain": [
       "0.037814221763085396"
      ]
     },
     "execution_count": 48,
     "metadata": {},
     "output_type": "execute_result"
    }
   ],
   "source": [
    "combination(5, 8, 2, 0) * combination(5, 12, 1, 3) + combination(5, 8, 1, 1) * combination(5, 12, 2, 2) + \\\n",
    "combination(5, 8, 0, 2) * combination(5, 12, 3, 1)"
   ]
  },
  {
   "cell_type": "markdown",
   "id": "0c4c92e4",
   "metadata": {},
   "source": [
    "Задание 3. На соревновании по биатлону один из трех спортсменов стреляет и попадает в мишень. Вероятность попадания для первого спортсмена равна 0.9, для второго — 0.8, для третьего — 0.6. Найти вероятность того, что выстрел произведен: a). первым спортсменом б). вторым спортсменом в). третьим спортсменом."
   ]
  },
  {
   "cell_type": "code",
   "execution_count": 71,
   "id": "70d8e2a3",
   "metadata": {},
   "outputs": [],
   "source": [
    "def possib_a(sportsman):\n",
    "    possibilities = [0.9, 0.8, 0.6]\n",
    "    P_A = 1 / 3 * (sum(possibilities))\n",
    "    return possibilities[sportsman - 1] / 3 / P_A"
   ]
  },
  {
   "cell_type": "code",
   "execution_count": 72,
   "id": "62116966",
   "metadata": {},
   "outputs": [
    {
     "data": {
      "text/plain": [
       "0.3913043478260869"
      ]
     },
     "execution_count": 72,
     "metadata": {},
     "output_type": "execute_result"
    }
   ],
   "source": [
    "possib_a(1)"
   ]
  },
  {
   "cell_type": "code",
   "execution_count": 73,
   "id": "393dcf21",
   "metadata": {},
   "outputs": [
    {
     "data": {
      "text/plain": [
       "0.34782608695652173"
      ]
     },
     "execution_count": 73,
     "metadata": {},
     "output_type": "execute_result"
    }
   ],
   "source": [
    "possib_a(2)"
   ]
  },
  {
   "cell_type": "code",
   "execution_count": 74,
   "id": "94f42641",
   "metadata": {},
   "outputs": [
    {
     "data": {
      "text/plain": [
       "0.26086956521739124"
      ]
     },
     "execution_count": 74,
     "metadata": {},
     "output_type": "execute_result"
    }
   ],
   "source": [
    "possib_a(3)"
   ]
  },
  {
   "cell_type": "markdown",
   "id": "5e661d1a",
   "metadata": {},
   "source": [
    "Задание 4. В университет на факультеты A и B поступило равное количество студентов, а на факультет C студентов поступило столько же, сколько на A и B вместе. Вероятность того, что студент факультета A сдаст первую сессию, равна 0.8. Для студента факультета B эта вероятность равна 0.7, а для студента факультета C - 0.9. Студент сдал первую сессию. Какова вероятность, что он учится: a). на факультете A б). на факультете B в). на факультете C?"
   ]
  },
  {
   "cell_type": "code",
   "execution_count": 88,
   "id": "3d94711d",
   "metadata": {},
   "outputs": [],
   "source": [
    "def possib_b(faculty):\n",
    "    possibilities = [(0.25, 0.8), (0.25, 0.7), (0.5, 0.9)]\n",
    "    P_A = sum([p[0] * p[1] for p in possibilities])\n",
    "    return possibilities[faculty - 1][1] * possibilities[faculty - 1][0] / P_A"
   ]
  },
  {
   "cell_type": "code",
   "execution_count": 89,
   "id": "c215a75e",
   "metadata": {},
   "outputs": [
    {
     "data": {
      "text/plain": [
       "0.24242424242424246"
      ]
     },
     "execution_count": 89,
     "metadata": {},
     "output_type": "execute_result"
    }
   ],
   "source": [
    "possib_b(1)"
   ]
  },
  {
   "cell_type": "code",
   "execution_count": 90,
   "id": "fc99a5f4",
   "metadata": {},
   "outputs": [
    {
     "data": {
      "text/plain": [
       "0.21212121212121213"
      ]
     },
     "execution_count": 90,
     "metadata": {},
     "output_type": "execute_result"
    }
   ],
   "source": [
    "possib_b(2)"
   ]
  },
  {
   "cell_type": "code",
   "execution_count": 91,
   "id": "eb6d4a94",
   "metadata": {},
   "outputs": [
    {
     "data": {
      "text/plain": [
       "0.5454545454545455"
      ]
     },
     "execution_count": 91,
     "metadata": {},
     "output_type": "execute_result"
    }
   ],
   "source": [
    "possib_b(3)"
   ]
  },
  {
   "cell_type": "markdown",
   "id": "e2a7cc6f",
   "metadata": {},
   "source": [
    "Задание 5. Устройство состоит из трех деталей. Для первой детали вероятность выйти из строя в первый месяц равна 0.1, для второй - 0.2, для третьей - 0.25. Какова вероятность того, что в первый месяц выйдут из строя: а). все детали б). только две детали в). хотя бы одна деталь г). от одной до двух деталей?"
   ]
  },
  {
   "cell_type": "code",
   "execution_count": 95,
   "id": "ee0d3f1b",
   "metadata": {},
   "outputs": [
    {
     "data": {
      "text/plain": [
       "0.005000000000000001"
      ]
     },
     "execution_count": 95,
     "metadata": {},
     "output_type": "execute_result"
    }
   ],
   "source": [
    "all_failed = 0.1 * 0.2 * 0.25\n",
    "all_failed"
   ]
  },
  {
   "cell_type": "code",
   "execution_count": 96,
   "id": "81c9889d",
   "metadata": {},
   "outputs": [
    {
     "data": {
      "text/plain": [
       "0.08000000000000002"
      ]
     },
     "execution_count": 96,
     "metadata": {},
     "output_type": "execute_result"
    }
   ],
   "source": [
    "two_failed = (0.1 * 0.2 * 0.75) + (0.1 * 0.8 * 0.25) + (0.9 * 0.2 * 0.25)\n",
    "two_failed"
   ]
  },
  {
   "cell_type": "code",
   "execution_count": 97,
   "id": "516de9f1",
   "metadata": {},
   "outputs": [
    {
     "data": {
      "text/plain": [
       "0.375"
      ]
     },
     "execution_count": 97,
     "metadata": {},
     "output_type": "execute_result"
    }
   ],
   "source": [
    "one_failed = (0.1 * 0.8 * 0.75) + (0.9 * 0.2 * 0.75) + (0.9 * 0.8 * 0.25)\n",
    "one_failed"
   ]
  },
  {
   "cell_type": "code",
   "execution_count": 99,
   "id": "4a738192",
   "metadata": {},
   "outputs": [
    {
     "data": {
      "text/plain": [
       "0.455"
      ]
     },
     "execution_count": 99,
     "metadata": {},
     "output_type": "execute_result"
    }
   ],
   "source": [
    "one_to_two_failed = one_failed + two_failed\n",
    "one_to_two_failed"
   ]
  },
  {
   "cell_type": "code",
   "execution_count": null,
   "id": "e9c05a5d",
   "metadata": {},
   "outputs": [],
   "source": []
  }
 ],
 "metadata": {
  "kernelspec": {
   "display_name": "Python 3 (ipykernel)",
   "language": "python",
   "name": "python3"
  },
  "language_info": {
   "codemirror_mode": {
    "name": "ipython",
    "version": 3
   },
   "file_extension": ".py",
   "mimetype": "text/x-python",
   "name": "python",
   "nbconvert_exporter": "python",
   "pygments_lexer": "ipython3",
   "version": "3.8.10"
  }
 },
 "nbformat": 4,
 "nbformat_minor": 5
}
