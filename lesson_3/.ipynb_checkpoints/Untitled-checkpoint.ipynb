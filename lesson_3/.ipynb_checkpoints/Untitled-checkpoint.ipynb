{
 "cells": [
  {
   "cell_type": "code",
   "execution_count": 38,
   "id": "62fa06aa",
   "metadata": {},
   "outputs": [],
   "source": [
    "import numpy as np\n",
    "from math import factorial as fact"
   ]
  },
  {
   "cell_type": "markdown",
   "id": "2782b594",
   "metadata": {},
   "source": [
    "Задание 1. Даны значения зарплат из выборки выпускников: 100, 80, 75, 77, 89, 33, 45, 25, 65, 17, 30, 24, 57, 55, 70, 75, 65, 84, 90, 150. Посчитать (желательно без использования статистических методов наподобие std, var, mean) среднее арифметическое, среднее квадратичное отклонение, смещенную и несмещенную оценки дисперсий для данной выборки."
   ]
  },
  {
   "cell_type": "code",
   "execution_count": 32,
   "id": "1eecdd69",
   "metadata": {},
   "outputs": [],
   "source": [
    "salary = np.array([100, 80, 75, 77, 89, 33, 45, 25, 65, 17, 30, 24, 57, 55, 70, 75, 65, 84, 90, 150])"
   ]
  },
  {
   "cell_type": "code",
   "execution_count": 33,
   "id": "66aa677d",
   "metadata": {},
   "outputs": [
    {
     "data": {
      "text/plain": [
       "65.3"
      ]
     },
     "execution_count": 33,
     "metadata": {},
     "output_type": "execute_result"
    }
   ],
   "source": [
    "mean = salary.sum() / salary.size\n",
    "mean"
   ]
  },
  {
   "cell_type": "code",
   "execution_count": 34,
   "id": "316a65d7",
   "metadata": {},
   "outputs": [
    {
     "data": {
      "text/plain": [
       "31.624607341019814"
      ]
     },
     "execution_count": 34,
     "metadata": {},
     "output_type": "execute_result"
    }
   ],
   "source": [
    "std = (((salary - mean) ** 2).sum() / (salary.size - 1)) ** 0.5\n",
    "std"
   ]
  },
  {
   "cell_type": "code",
   "execution_count": 35,
   "id": "ba3d9d17",
   "metadata": {},
   "outputs": [
    {
     "data": {
      "text/plain": [
       "1000.1157894736843"
      ]
     },
     "execution_count": 35,
     "metadata": {},
     "output_type": "execute_result"
    }
   ],
   "source": [
    "var_with_shift = std ** 2\n",
    "var_with_shift"
   ]
  },
  {
   "cell_type": "code",
   "execution_count": 36,
   "id": "dc64cebe",
   "metadata": {},
   "outputs": [
    {
     "data": {
      "text/plain": [
       "950.11"
      ]
     },
     "execution_count": 36,
     "metadata": {},
     "output_type": "execute_result"
    }
   ],
   "source": [
    "var_without_shift = ((salary - mean) ** 2).sum() / salary.size\n",
    "var_without_shift"
   ]
  },
  {
   "cell_type": "markdown",
   "id": "1bb37e78",
   "metadata": {},
   "source": [
    "Задание 2. В первом ящике находится 8 мячей, из которых 5 - белые. Во втором ящике - 12 мячей, из которых 5 белых. Из первого ящика вытаскивают случайным образом два мяча, из второго - 4. Какова вероятность того, что 3 мяча белые?"
   ]
  },
  {
   "cell_type": "code",
   "execution_count": 47,
   "id": "18f94fe9",
   "metadata": {},
   "outputs": [],
   "source": [
    "def combination(whites_in_box, total, whites_taken, blacks_taken):\n",
    "    blacks_in_box = total - whites_in_box\n",
    "    S_whites = fact(whites_in_box) / fact(whites_taken) / fact(whites_in_box - whites_taken)\n",
    "    S_all_for_whites = fact(total) / fact(whites_taken) / fact(total - whites_taken)\n",
    "    p_whites = S_whites / S_all_for_whites\n",
    "    S_blacks = fact(blacks_in_box) / fact(blacks_taken) / fact(blacks_in_box - blacks_taken)\n",
    "    S_all_for_blacks = fact(total) / fact(blacks_taken) / fact(total - blacks_taken)\n",
    "    p_blacks = S_blacks / S_all_for_blacks\n",
    "    return p_whites * p_blacks\n",
    "    "
   ]
  },
  {
   "cell_type": "code",
   "execution_count": 48,
   "id": "6117a710",
   "metadata": {},
   "outputs": [
    {
     "data": {
      "text/plain": [
       "0.037814221763085396"
      ]
     },
     "execution_count": 48,
     "metadata": {},
     "output_type": "execute_result"
    }
   ],
   "source": [
    "combination(5, 8, 2, 0) * combination(5, 12, 1, 3) + combination(5, 8, 1, 1) * combination(5, 12, 2, 2) + \\\n",
    "combination(5, 8, 0, 2) * combination(5, 12, 3, 1)"
   ]
  },
  {
   "cell_type": "markdown",
   "id": "15ddf2f0",
   "metadata": {},
   "source": [
    "Задание 3. На соревновании по биатлону один из трех спортсменов стреляет и попадает в мишень. Вероятность попадания для первого спортсмена равна 0.9, для второго — 0.8, для третьего — 0.6. Найти вероятность того, что выстрел произведен: a). первым спортсменом б). вторым спортсменом в). третьим спортсменом."
   ]
  },
  {
   "cell_type": "code",
   "execution_count": 71,
   "id": "bf5e6d00",
   "metadata": {},
   "outputs": [],
   "source": [
    "def possib(sportsman):\n",
    "    possibilities = [0.9, 0.8, 0.6]\n",
    "    P_A = 1 / 3 * (sum(possibilities))\n",
    "    return possibilities[sportsman - 1] / 3 / P_A"
   ]
  },
  {
   "cell_type": "code",
   "execution_count": 72,
   "id": "5a097d2a",
   "metadata": {},
   "outputs": [
    {
     "data": {
      "text/plain": [
       "0.3913043478260869"
      ]
     },
     "execution_count": 72,
     "metadata": {},
     "output_type": "execute_result"
    }
   ],
   "source": [
    "possib(1)"
   ]
  },
  {
   "cell_type": "code",
   "execution_count": 73,
   "id": "c9b07c3a",
   "metadata": {},
   "outputs": [
    {
     "data": {
      "text/plain": [
       "0.34782608695652173"
      ]
     },
     "execution_count": 73,
     "metadata": {},
     "output_type": "execute_result"
    }
   ],
   "source": [
    "possib(2)"
   ]
  },
  {
   "cell_type": "code",
   "execution_count": 74,
   "id": "31e10585",
   "metadata": {},
   "outputs": [
    {
     "data": {
      "text/plain": [
       "0.26086956521739124"
      ]
     },
     "execution_count": 74,
     "metadata": {},
     "output_type": "execute_result"
    }
   ],
   "source": [
    "possib(3)"
   ]
  },
  {
   "cell_type": "code",
   "execution_count": 75,
   "id": "61e3d705",
   "metadata": {},
   "outputs": [
    {
     "data": {
      "text/plain": [
       "0.9999999999999999"
      ]
     },
     "execution_count": 75,
     "metadata": {},
     "output_type": "execute_result"
    }
   ],
   "source": []
  },
  {
   "cell_type": "code",
   "execution_count": null,
   "id": "997c63ab",
   "metadata": {},
   "outputs": [],
   "source": []
  }
 ],
 "metadata": {
  "kernelspec": {
   "display_name": "Python 3 (ipykernel)",
   "language": "python",
   "name": "python3"
  },
  "language_info": {
   "codemirror_mode": {
    "name": "ipython",
    "version": 3
   },
   "file_extension": ".py",
   "mimetype": "text/x-python",
   "name": "python",
   "nbconvert_exporter": "python",
   "pygments_lexer": "ipython3",
   "version": "3.8.10"
  }
 },
 "nbformat": 4,
 "nbformat_minor": 5
}
