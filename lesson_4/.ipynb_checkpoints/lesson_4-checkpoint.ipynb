{
 "cells": [
  {
   "cell_type": "markdown",
   "id": "e4ccefa6",
   "metadata": {},
   "source": [
    "Задание 1. Случайная непрерывная величина A имеет равномерное распределение на промежутке (200, 800].\n",
    "           Найдите ее среднее значение и дисперсию."
   ]
  },
  {
   "cell_type": "code",
   "execution_count": 1,
   "id": "7e5c6dda",
   "metadata": {},
   "outputs": [
    {
     "data": {
      "text/plain": [
       "300.0"
      ]
     },
     "execution_count": 1,
     "metadata": {},
     "output_type": "execute_result"
    }
   ],
   "source": [
    "M = (800 + 200) / 2\n",
    "M"
   ]
  },
  {
   "cell_type": "code",
   "execution_count": 2,
   "id": "750fc561",
   "metadata": {},
   "outputs": [
    {
     "data": {
      "text/plain": [
       "30000.0"
      ]
     },
     "execution_count": 2,
     "metadata": {},
     "output_type": "execute_result"
    }
   ],
   "source": [
    "D = (800 - 200) ** 2 / 12\n",
    "D"
   ]
  },
  {
   "cell_type": "markdown",
   "id": "c0aca808",
   "metadata": {},
   "source": [
    "Задание 2. О случайной непрерывной равномерно распределенной величине B известно, что ее дисперсия равна 0.2.\n",
    "Можно ли найти правую границу величины B и ее среднее значение зная, что левая граница равна 0.5?\n",
    "Если да, найдите ее."
   ]
  },
  {
   "cell_type": "code",
   "execution_count": 5,
   "id": "772cb1aa",
   "metadata": {},
   "outputs": [
    {
     "data": {
      "text/plain": [
       "2.049193338482967"
      ]
     },
     "execution_count": 5,
     "metadata": {},
     "output_type": "execute_result"
    }
   ],
   "source": [
    "b = (0.2 * 12) ** 0.5 + 0.5\n",
    "b"
   ]
  },
  {
   "cell_type": "code",
   "execution_count": 6,
   "id": "accf3728",
   "metadata": {},
   "outputs": [
    {
     "data": {
      "text/plain": [
       "1.2745966692414834"
      ]
     },
     "execution_count": 6,
     "metadata": {},
     "output_type": "execute_result"
    }
   ],
   "source": [
    "M = (0.5 + b) / 2\n",
    "M"
   ]
  },
  {
   "cell_type": "markdown",
   "id": "3c80231f",
   "metadata": {},
   "source": [
    "Задание 3. Непрерывная случайная величина X распределена нормально и задана плотностью распределения\n",
    "f(x) = (1 / (4 * sqrt(2*pi))) * (exp(-(x+2)**2) / 32).\n",
    "Найдите:\n",
    "а). M(X)\n",
    "б). D(X)\n",
    "в). std(X) (среднее квадратичное отклонение)"
   ]
  },
  {
   "cell_type": "code",
   "execution_count": 7,
   "id": "b4feaa70",
   "metadata": {},
   "outputs": [],
   "source": [
    "M = -2\n",
    "D = 16\n",
    "std = 4"
   ]
  },
  {
   "cell_type": "markdown",
   "id": "242bfd19",
   "metadata": {},
   "source": [
    "Задание 4.Рост взрослого населения города X имеет нормальное распределение.\n",
    "Причем, средний рост равен 174 см, а среднее квадратичное отклонение равно 8 см.\n",
    "Какова вероятность того, что случайным образом выбранный взрослый человек имеет рост:\n",
    "а). больше 182 см\n",
    "б). больше 190 см\n",
    "в). от 166 см до 190 см\n",
    "г). от 166 см до 182 см\n",
    "д). от 158 см до 190 см\n",
    "е). не выше 150 см или не ниже 190 см\n",
    "ё). не выше 150 см или не ниже 198 см\n",
    "ж). ниже 166 см."
   ]
  },
  {
   "cell_type": "code",
   "execution_count": 10,
   "id": "7d0118ad",
   "metadata": {},
   "outputs": [
    {
     "data": {
      "text/plain": [
       "0.15999999999999998"
      ]
     },
     "execution_count": 10,
     "metadata": {},
     "output_type": "execute_result"
    }
   ],
   "source": [
    "#а). больше 182 см\n",
    "(1 - 0.68) / 2"
   ]
  },
  {
   "cell_type": "code",
   "execution_count": 11,
   "id": "f71275a7",
   "metadata": {},
   "outputs": [
    {
     "data": {
      "text/plain": [
       "0.02300000000000002"
      ]
     },
     "execution_count": 11,
     "metadata": {},
     "output_type": "execute_result"
    }
   ],
   "source": [
    "#б). больше 190 см\n",
    "(1 - 0.954) / 2"
   ]
  },
  {
   "cell_type": "code",
   "execution_count": 13,
   "id": "130f547e",
   "metadata": {},
   "outputs": [
    {
     "data": {
      "text/plain": [
       "0.817"
      ]
     },
     "execution_count": 13,
     "metadata": {},
     "output_type": "execute_result"
    }
   ],
   "source": [
    "#в). от 166 см до 190 см\n",
    "0.68 + (0.954 - 0.68) / 2"
   ]
  },
  {
   "cell_type": "code",
   "execution_count": 14,
   "id": "15ea5d8a",
   "metadata": {},
   "outputs": [
    {
     "data": {
      "text/plain": [
       "0.68"
      ]
     },
     "execution_count": 14,
     "metadata": {},
     "output_type": "execute_result"
    }
   ],
   "source": [
    "#г). от 166 см до 182 см\n",
    "0.68"
   ]
  },
  {
   "cell_type": "code",
   "execution_count": 15,
   "id": "7cd254c2",
   "metadata": {},
   "outputs": [
    {
     "data": {
      "text/plain": [
       "0.954"
      ]
     },
     "execution_count": 15,
     "metadata": {},
     "output_type": "execute_result"
    }
   ],
   "source": [
    "#д). от 158 см до 190 см\n",
    "0.954"
   ]
  },
  {
   "cell_type": "code",
   "execution_count": 16,
   "id": "32d5d4b4",
   "metadata": {},
   "outputs": [
    {
     "data": {
      "text/plain": [
       "0.024400000000000033"
      ]
     },
     "execution_count": 16,
     "metadata": {},
     "output_type": "execute_result"
    }
   ],
   "source": [
    "#е). не выше 150 см или не ниже 190 см\n",
    "(1 - 0.9972) / 2 + (1 - 0.954) / 2"
   ]
  },
  {
   "cell_type": "code",
   "execution_count": 17,
   "id": "86ae3533",
   "metadata": {},
   "outputs": [
    {
     "data": {
      "text/plain": [
       "0.9972"
      ]
     },
     "execution_count": 17,
     "metadata": {},
     "output_type": "execute_result"
    }
   ],
   "source": [
    "#ё). не выше 150 см или не ниже 198 см\n",
    "0.9972"
   ]
  },
  {
   "cell_type": "code",
   "execution_count": 18,
   "id": "0c30562a",
   "metadata": {},
   "outputs": [
    {
     "data": {
      "text/plain": [
       "0.15999999999999998"
      ]
     },
     "execution_count": 18,
     "metadata": {},
     "output_type": "execute_result"
    }
   ],
   "source": [
    "#ж). ниже 166 см.\n",
    "(1 - 0.68) / 2"
   ]
  },
  {
   "cell_type": "markdown",
   "id": "0a91ad86",
   "metadata": {},
   "source": [
    "Задание 5. На сколько сигм (средних квадратичных отклонений) отклоняется рост человека, равный 190 см, от\n",
    "математического ожидания роста в популяции, в которой M(X) = 178 см и D(X) = 25 кв.см?"
   ]
  },
  {
   "cell_type": "code",
   "execution_count": 19,
   "id": "a9869fc7",
   "metadata": {},
   "outputs": [
    {
     "data": {
      "text/plain": [
       "2.4"
      ]
     },
     "execution_count": 19,
     "metadata": {},
     "output_type": "execute_result"
    }
   ],
   "source": [
    "(190 - 178) / 25 ** 0.5"
   ]
  },
  {
   "cell_type": "code",
   "execution_count": null,
   "id": "151d459d",
   "metadata": {},
   "outputs": [],
   "source": []
  }
 ],
 "metadata": {
  "kernelspec": {
   "display_name": "Python 3 (ipykernel)",
   "language": "python",
   "name": "python3"
  },
  "language_info": {
   "codemirror_mode": {
    "name": "ipython",
    "version": 3
   },
   "file_extension": ".py",
   "mimetype": "text/x-python",
   "name": "python",
   "nbconvert_exporter": "python",
   "pygments_lexer": "ipython3",
   "version": "3.8.10"
  }
 },
 "nbformat": 4,
 "nbformat_minor": 5
}
